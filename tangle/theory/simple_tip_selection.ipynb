{
 "metadata": {
  "language_info": {
   "codemirror_mode": {
    "name": "ipython",
    "version": 3
   },
   "file_extension": ".py",
   "mimetype": "text/x-python",
   "name": "python",
   "nbconvert_exporter": "python",
   "pygments_lexer": "ipython3",
   "version": "3.6.10-final"
  },
  "orig_nbformat": 2,
  "kernelspec": {
   "name": "python3",
   "display_name": "Python 3"
  }
 },
 "nbformat": 4,
 "nbformat_minor": 2,
 "cells": [
  {
   "cell_type": "code",
   "execution_count": null,
   "metadata": {
    "tags": []
   },
   "outputs": [],
   "source": [
    "import sys\n",
    "sys.path.append(\"../..\")"
   ]
  },
  {
   "cell_type": "code",
   "execution_count": null,
   "metadata": {
    "tags": []
   },
   "outputs": [],
   "source": [
    "%load_ext autoreload\n",
    "%autoreload 2"
   ]
  },
  {
   "cell_type": "code",
   "execution_count": null,
   "metadata": {},
   "outputs": [],
   "source": [
    "# Jupyter stuff\n",
    "# You may need to conda install seaborn matplotlib tqdm jupyterlab\n",
    "import matplotlib.pyplot as plt\n",
    "import seaborn as sns\n",
    "import pandas as pd\n",
    "from tqdm import tqdm"
   ]
  },
  {
   "cell_type": "code",
   "execution_count": null,
   "metadata": {},
   "outputs": [],
   "source": [
    "import random\n",
    "import numpy as np\n",
    "\n",
    "from tangle.core import Tangle, Transaction\n",
    "from tangle.core.tip_selection import MaxDepthTipSelector\n",
    "from tangle.theory import TempTransactionStore, TheoreticalNode\n"
   ]
  },
  {
   "cell_type": "code",
   "execution_count": null,
   "metadata": {},
   "outputs": [],
   "source": [
    "NUM_NODES = 1000\n",
    "NUM_ROUNDS = 150\n",
    "NODES_PER_ROUND = 10\n",
    "\n",
    "DIST_STD_DEV = 100\n",
    "\n",
    "PARTICLES_DEPTH = 50"
   ]
  },
  {
   "cell_type": "code",
   "execution_count": null,
   "metadata": {},
   "outputs": [],
   "source": [
    "# Data\n",
    "mu, sigma = 0, DIST_STD_DEV # mean and standard deviation\n",
    "node_data = [np.array(x) for x in np.random.normal(mu, sigma, NUM_NODES)]"
   ]
  },
  {
   "cell_type": "code",
   "execution_count": null,
   "metadata": {},
   "outputs": [],
   "source": [
    "# Tangle Initialization\n",
    "tx_store = TempTransactionStore()\n",
    "genesis = Transaction([])\n",
    "# Initialize the genesis transaction with a number within the std dev interval\n",
    "tx_store.save(genesis, np.array(random.uniform(-DIST_STD_DEV, DIST_STD_DEV)))\n",
    "tangle = Tangle({genesis.id: genesis}, genesis.id)"
   ]
  },
  {
   "cell_type": "code",
   "execution_count": null,
   "metadata": {},
   "outputs": [],
   "source": [
    "# Results\n",
    "num_txs = []     # Number of published transactions per round\n",
    "consensus = []   # Value of consensus transaction per round (should converge to 0)"
   ]
  },
  {
   "cell_type": "code",
   "execution_count": null,
   "metadata": {
    "tags": []
   },
   "outputs": [],
   "source": [
    "for r in tqdm(range(NUM_ROUNDS)):\n",
    "    txs = []\n",
    "\n",
    "    for _ in range(NODES_PER_ROUND):\n",
    "        node_id = np.random.randint(NUM_NODES)\n",
    "        tip_selector = MaxDepthTipSelector(tangle, PARTICLES_DEPTH)\n",
    "        node = TheoreticalNode(tangle, tx_store, tip_selector, node_id, None, node_data[node_id])\n",
    "        tx, tx_weights = node.create_transaction()\n",
    "\n",
    "        if tx is not None:\n",
    "            tx_store.save(tx, tx_weights)\n",
    "            txs.append(tx)\n",
    "\n",
    "    for tx in txs:\n",
    "        tangle.add_transaction(tx)  \n",
    "\n",
    "    tip_selector = MaxDepthTipSelector(tangle, PARTICLES_DEPTH)\n",
    "    # Use 'the average' node (data=0) for validation\n",
    "    validation_node = TheoreticalNode(tangle, tx_store, tip_selector, 0, None, 0)\n",
    "    reference_txs, reference = validation_node.obtain_reference_params()\n",
    "\n",
    "    num_txs.append(len(txs))\n",
    "    consensus.append(np.linalg.norm(reference))"
   ]
  },
  {
   "cell_type": "code",
   "execution_count": null,
   "metadata": {},
   "outputs": [],
   "source": [
    "sns.lineplot(data=pd.DataFrame(num_txs))"
   ]
  },
  {
   "cell_type": "code",
   "execution_count": null,
   "metadata": {},
   "outputs": [],
   "source": [
    "plt.plot(consensus)"
   ]
  },
  {
   "cell_type": "code",
   "execution_count": null,
   "metadata": {},
   "outputs": [],
   "source": [
    "consensus[-1], min(consensus)"
   ]
  },
  {
   "cell_type": "code",
   "execution_count": null,
   "metadata": {},
   "outputs": [],
   "source": []
  },
  {
   "cell_type": "code",
   "execution_count": null,
   "metadata": {},
   "outputs": [],
   "source": []
  }
 ]
}